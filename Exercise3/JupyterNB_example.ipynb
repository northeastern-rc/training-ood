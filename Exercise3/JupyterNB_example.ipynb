{
 "cells": [
  {
   "cell_type": "markdown",
   "metadata": {},
   "source": [
    "# RC Fall Training 2022 - Working with Open OnDemand"
   ]
  },
  {
   "cell_type": "code",
   "execution_count": 1,
   "metadata": {
    "scrolled": false
   },
   "outputs": [
    {
     "name": "stdout",
     "output_type": "stream",
     "text": [
      "Welcome to RC's Fall Training 2022 Bootcamp!\n"
     ]
    }
   ],
   "source": [
    "print(\"Welcome to RC's Fall Training 2022 Bootcamp!\")"
   ]
  },
  {
   "cell_type": "code",
   "execution_count": 2,
   "metadata": {
    "scrolled": false
   },
   "outputs": [
    {
     "name": "stdout",
     "output_type": "stream",
     "text": [
      "Today's date: 2022-10-03\n"
     ]
    }
   ],
   "source": [
    "# Import the date class from the datetime module. \n",
    "# Then, use the date.today() method to get the current date.\n",
    "\n",
    "from datetime import date\n",
    "\n",
    "today = date.today()\n",
    "print(\"Today's date:\", today)"
   ]
  },
  {
   "cell_type": "code",
   "execution_count": 3,
   "metadata": {
    "scrolled": false
   },
   "outputs": [
    {
     "name": "stdout",
     "output_type": "stream",
     "text": [
      "You have passed\n"
     ]
    }
   ],
   "source": [
    "# Example control-statement\n",
    "\n",
    "number = 70\n",
    "# Check if the number is more than 70 or not\n",
    "if (number >= 70):\n",
    "    print(\"You have passed\")\n",
    "else:\n",
    "    print(\"You have not passed\")"
   ]
  },
  {
   "cell_type": "code",
   "execution_count": 4,
   "metadata": {
    "scrolled": false
   },
   "outputs": [],
   "source": [
    "#Example function \n",
    "\n",
    "def Convert (F):\n",
    "    Celcius=(F-32)*5/9\n",
    "    print(\"Temp in Celcius is: \", Celcius)"
   ]
  },
  {
   "cell_type": "code",
   "execution_count": 5,
   "metadata": {
    "scrolled": false
   },
   "outputs": [
    {
     "name": "stdout",
     "output_type": "stream",
     "text": [
      "Enter a temperature in Farenheit 70\n",
      "Temp in Celcius is:  21.11111111111111\n"
     ]
    }
   ],
   "source": [
    "#Get input from user in Ferenheit and call the function\n",
    "F=int(input(\"Enter a temperature in Farenheit \"))\n",
    "\n",
    "#call function\n",
    "Convert (F)"
   ]
  },
  {
   "cell_type": "code",
   "execution_count": null,
   "metadata": {},
   "outputs": [],
   "source": []
  }
 ],
 "metadata": {
  "kernelspec": {
   "display_name": "Python 3 (ipykernel)",
   "language": "python",
   "name": "python3"
  },
  "language_info": {
   "codemirror_mode": {
    "name": "ipython",
    "version": 3
   },
   "file_extension": ".py",
   "mimetype": "text/x-python",
   "name": "python",
   "nbconvert_exporter": "python",
   "pygments_lexer": "ipython3",
   "version": "3.9.12"
  }
 },
 "nbformat": 4,
 "nbformat_minor": 2
}
